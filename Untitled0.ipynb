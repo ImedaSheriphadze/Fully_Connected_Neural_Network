{
  "nbformat": 4,
  "nbformat_minor": 0,
  "metadata": {
    "colab": {
      "provenance": [],
      "gpuType": "T4",
      "authorship_tag": "ABX9TyNKVqaors6xhxIsA3lTrxm2"
    },
    "kernelspec": {
      "name": "python3",
      "display_name": "Python 3"
    },
    "language_info": {
      "name": "python"
    },
    "accelerator": "GPU",
    "gpuClass": "standard"
  },
  "cells": [
    {
      "cell_type": "markdown",
      "source": [
        "Пример сложной игровой программы на Python под названием «**Виселица**»:"
      ],
      "metadata": {
        "id": "dsWEpcs1xk0k"
      }
    },
    {
      "cell_type": "code",
      "source": [
        "import random\n",
        "\n",
        "def play_hangman():\n",
        "    word_list = [\"яблоко\", \"банан\", \"вишня\", \"дуриан\", \"бузина\", \"инжир\", \"грейпфрут\", \"нектар\"]\n",
        "    secret_word = random.choice(word_list)\n",
        "    guessed_letters = []\n",
        "    attempts = 6\n",
        "    \n",
        "    print(\"Добро пожаловать в Виселицу!\")\n",
        "    print(\"Угадай секретное слово, вводя по одной букве за раз.\")\n",
        "    print(\"У вас есть 6 попыток угадать слово правильно.\")\n",
        "    print(\"---------------------------\")\n",
        "    \n",
        "    while attempts > 0:\n",
        "        masked_word = \"\"\n",
        "        for letter in secret_word:\n",
        "            if letter in guessed_letters:\n",
        "                masked_word += letter\n",
        "            else:\n",
        "                masked_word += \"_\"\n",
        "        \n",
        "        print(f\"Секретное слово: {masked_word}\")\n",
        "        print(f\"Осталось попыток: {attempts}\")\n",
        "        \n",
        "        if masked_word == secret_word:\n",
        "            print(\"Поздравляем! Вы правильно угадали слово!\")\n",
        "            break\n",
        "        \n",
        "        user_guess = input(\"Введите букву: \").lower()\n",
        "        \n",
        "        if len(user_guess) != 1 or not user_guess.isalpha():\n",
        "            print(\"Неверный Ввод. Пожалуйста, введите одну букву.\")\n",
        "            continue\n",
        "        \n",
        "        if user_guess in guessed_letters:\n",
        "            print(\"Вы уже угадали эту букву. Попробуйте другой.\")\n",
        "            continue\n",
        "        \n",
        "        guessed_letters.append(user_guess)\n",
        "        \n",
        "        if user_guess not in secret_word:\n",
        "            attempts -= 1\n",
        "            print(\"Неверное предположение. Попробуйте еще раз.\")\n",
        "        \n",
        "        print(\"---------------------------\")\n",
        "    \n",
        "    if attempts == 0:\n",
        "        print(\"Игра закончена! У вас закончились попытки.\")\n",
        "        print(f\"Секретное слово было: {secret_word}\")\n",
        "\n",
        "# Запустить игру\n",
        "play_hangman()\n"
      ],
      "metadata": {
        "colab": {
          "base_uri": "https://localhost:8080/"
        },
        "id": "gdGT8XWFxwV0",
        "outputId": "3fe284fb-35c0-41d4-d4f1-1a47158332d2"
      },
      "execution_count": 4,
      "outputs": [
        {
          "output_type": "stream",
          "name": "stdout",
          "text": [
            "Добро пожаловать в Виселицу!\n",
            "Угадай секретное слово, вводя по одной букве за раз.\n",
            "У вас есть 6 попыток угадать слово правильно.\n",
            "---------------------------\n",
            "Секретное слово: _____\n",
            "Осталось попыток: 6\n",
            "Введите букву: б\n",
            "---------------------------\n",
            "Секретное слово: б____\n",
            "Осталось попыток: 6\n",
            "Введите букву: а\n",
            "---------------------------\n",
            "Секретное слово: ба_а_\n",
            "Осталось попыток: 6\n",
            "Введите букву: н\n",
            "---------------------------\n",
            "Секретное слово: банан\n",
            "Осталось попыток: 6\n",
            "Поздравляем! Вы правильно угадали слово!\n"
          ]
        }
      ]
    }
  ]
}