{
  "nbformat": 4,
  "nbformat_minor": 0,
  "metadata": {
    "colab": {
      "provenance": [],
      "gpuType": "T4",
      "authorship_tag": "ABX9TyNcC43gdcFpK0yUzyuQvdxH"
    },
    "kernelspec": {
      "name": "python3",
      "display_name": "Python 3"
    },
    "language_info": {
      "name": "python"
    },
    "accelerator": "GPU"
  },
  "cells": [
    {
      "cell_type": "markdown",
      "source": [
        "Моделирование всей нервной системы человека с помощью уникальной нейронной сети выходит за все рамки, я могу предоставить вам упрощенный пример программы нейронной сети на **Python**, который иллюстрирует основные принципы нейронной сети с обратной связью. Обратите внимание, что этот пример не является реалистичной симуляцией нервной системы человека, это просто приблизительный пример реалистичной симуляции нервной системы человека."
      ],
      "metadata": {
        "id": "4f2LhJwrRagq"
      }
    },
    {
      "cell_type": "code",
      "source": [
        "import numpy as np\n",
        "import matplotlib.pyplot as plt\n",
        "\n",
        "# Класс нейронной сети\n",
        "class NeuralNetwork:\n",
        "    def __init__(self, input_size, hidden_size, output_size):\n",
        "        self.weights1 = np.random.randn(input_size, hidden_size)\n",
        "        self.weights2 = np.random.randn(hidden_size, output_size)\n",
        "    \n",
        "    def forward(self, X):\n",
        "        self.hidden_layer = np.dot(X, self.weights1)\n",
        "        self.hidden_layer_activation = self.sigmoid(self.hidden_layer)\n",
        "        self.output_layer = np.dot(self.hidden_layer_activation, self.weights2)\n",
        "        self.output_layer_activation = self.sigmoid(self.output_layer)\n",
        "        return self.output_layer_activation\n",
        "    \n",
        "    def sigmoid(self, x):\n",
        "        return 1 / (1 + np.exp(-x))\n",
        "\n",
        "# Пример использования\n",
        "# Создайте нейронную сеть с 2 входными узлами, 3 скрытыми узлами и 1 выходным узлом.\n",
        "nn = NeuralNetwork(2, 3, 1)\n",
        "\n",
        "# Сгенерируйте образец входных данных для визуализации\n",
        "X = np.random.uniform(low=0, high=1, size=(100, 2))\n",
        "\n",
        "# Выполните прямое распространение, чтобы получить вывод\n",
        "output = nn.forward(X)\n",
        "\n",
        "# Изменить форму вывода для визуализации\n",
        "output = output.reshape(10, 10)\n",
        "\n",
        "# Отображение визуального образа\n",
        "plt.imshow(output, cmap='gray')\n",
        "plt.colorbar()\n",
        "plt.show()\n"
      ],
      "metadata": {
        "colab": {
          "base_uri": "https://localhost:8080/",
          "height": 430
        },
        "id": "WcBzUPdsRLC9",
        "outputId": "c8b0d1e5-95c4-4177-84b3-6c595d7f6970"
      },
      "execution_count": 6,
      "outputs": [
        {
          "output_type": "display_data",
          "data": {
            "text/plain": [
              "<Figure size 640x480 with 2 Axes>"
            ],
            "image/png": "[encoded data removed]"
          },
          "metadata": {}
        }
      ]
    },
    {
      "cell_type": "markdown",
      "source": [
        "Теперь пройдемся по программе пошагово и опишем каждую команду:\n",
        "\n",
        "1. Программа начинается с импорта необходимых библиотек: **numpy** для математических операций и **matplotlib.pyplot** для визуализации.\n",
        "\n",
        "2. Определен класс **NeuralNetwork**, представляющий нейронную сеть. Он имеет метод инициализации **(__init__)**, который принимает входной размер, скрытый размер и выходной размер в качестве параметров и случайным образом инициализирует веса сети.\n",
        "\n",
        "3. Прямой метод принимает входные данные **(X)** и выполняет прямое распространение, вычисляя выходные данные нейронной сети с помощью сигмовидной функции активации.\n",
        "\n",
        "4. Сигмовидный метод реализует сигмовидную функцию активации, которая сопоставляет ввод со значением от **0** до **1**.\n",
        "\n",
        "5. Экземпляр класса **NeuralNetwork** создается с **2** входными узлами, **3** скрытыми узлами и **1** выходным узлом.\n",
        "\n",
        "6. Случайные входные данные **(X)** генерируются с использованием **numpy.random.uniform** для имитации образца набора данных для визуализации. В этом примере генерируется матрица **100x2** случайных значений от **0** до **1**.\n",
        "\n",
        "7. Прямой метод вызывается с входными данными **(X)** для выполнения прямого распространения и получения выходных данных нейронной сети.\n",
        "\n",
        "8. Выход преобразуется в сетку **10x10** для целей визуализации. Этот шаг является необязательным и зависит от конкретных размеров вывода.\n",
        "\n",
        "9. Визуальное изображение вывода отображается с помощью **matplotlib.pyplot.imshow.** Аргумент **cmap='gray'** устанавливает цветовую карту в оттенки серого, а **plt.colorbar()** добавляет на график цветовую полосу.\n",
        "\n",
        "10. Наконец, вызывается **plt.show()** для отображения визуального изображения на экране.\n"
      ],
      "metadata": {
        "id": "mzLDJ6-NUEtc"
      }
    }
  ]
}