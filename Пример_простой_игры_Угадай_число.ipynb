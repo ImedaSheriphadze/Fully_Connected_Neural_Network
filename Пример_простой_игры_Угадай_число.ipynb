{
  "nbformat": 4,
  "nbformat_minor": 0,
  "metadata": {
    "colab": {
      "provenance": [],
      "gpuType": "T4",
      "authorship_tag": "ABX9TyM742P+GQS6nu3KzeZmCas+"
    },
    "kernelspec": {
      "name": "python3",
      "display_name": "Python 3"
    },
    "language_info": {
      "name": "python"
    },
    "accelerator": "GPU",
    "gpuClass": "standard"
  },
  "cells": [
    {
      "cell_type": "markdown",
      "source": [
        "Вот пример простой игры на угадывание чисел в **Python**:"
      ],
      "metadata": {
        "id": "-JLU-Odhuwez"
      }
    },
    {
      "cell_type": "code",
      "source": [
        "import random\n",
        "\n",
        "def guess_number():\n",
        "    secret_number = random.randint(1, 100)\n",
        "    attempts = 0\n",
        "    \n",
        "    while True:\n",
        "        user_guess = int(input(\"Угадай число от 1 до 100: \"))\n",
        "        attempts += 1\n",
        "        \n",
        "        if user_guess == secret_number:\n",
        "            print(f\"Поздравления! Вы угадали правильное число в {attempts} попытки!\")\n",
        "            break\n",
        "        elif user_guess < secret_number:\n",
        "            print(\"Слишком низко! Попробуйте еще раз.\")\n",
        "        else:\n",
        "            print(\"Слишком высоко! Попробуйте еще раз.\")\n",
        "\n",
        "# Run the game\n",
        "print(\"Добро пожаловать в игру - Угадай число!\")\n",
        "guess_number()\n"
      ],
      "metadata": {
        "colab": {
          "base_uri": "https://localhost:8080/"
        },
        "id": "tY3b_IDju3Yr",
        "outputId": "5758e8d5-fd01-417f-ebdb-ad567921e824"
      },
      "execution_count": 21,
      "outputs": [
        {
          "output_type": "stream",
          "name": "stdout",
          "text": [
            "Добро пожаловать в игру - Угадай число!\n",
            "Угадай число от 1 до 100: 60\n",
            "Слишком высоко! Попробуйте еще раз.\n",
            "Угадай число от 1 до 100: 50\n",
            "Слишком высоко! Попробуйте еще раз.\n",
            "Угадай число от 1 до 100: 40\n",
            "Слишком высоко! Попробуйте еще раз.\n",
            "Угадай число от 1 до 100: 20\n",
            "Слишком низко! Попробуйте еще раз.\n",
            "Угадай число от 1 до 100: 30\n",
            "Слишком высоко! Попробуйте еще раз.\n",
            "Угадай число от 1 до 100: 25\n",
            "Поздравления! Вы угадали правильное число в 6 попытки!\n"
          ]
        }
      ]
    }
  ]
}