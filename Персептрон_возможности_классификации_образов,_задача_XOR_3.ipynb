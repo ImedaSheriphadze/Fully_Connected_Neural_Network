{
  "nbformat": 4,
  "nbformat_minor": 0,
  "metadata": {
    "colab": {
      "provenance": [],
      "gpuType": "T4",
      "authorship_tag": "ABX9TyN/s/vLgvDwBTtnaOF2JTHy"
    },
    "kernelspec": {
      "name": "python3",
      "display_name": "Python 3"
    },
    "language_info": {
      "name": "python"
    },
    "accelerator": "GPU"
  },
  "cells": [
    {
      "cell_type": "code",
      "execution_count": 1,
      "metadata": {
        "colab": {
          "base_uri": "https://localhost:8080/"
        },
        "id": "i11YceIJQL_Q",
        "outputId": "febd2b69-180e-4a0a-c20d-a2eabf93529a"
      },
      "outputs": [
        {
          "output_type": "stream",
          "name": "stdout",
          "text": [
            "1 1\n",
            "0 0\n"
          ]
        }
      ],
      "source": [
        "import numpy as np\n",
        "import matplotlib.pyplot as plt\n",
        "\n",
        "def act(x):\n",
        "    return 0 if x <= 0 else 1\n",
        "\n",
        "def go(C):\n",
        "    x = np.array([C[0], C[1], 1])\n",
        "    w1 = [1, 1, -1.5]\n",
        "    w2 = [1, 1, -0.5]\n",
        "    w_hidden = np.array([w1, w2])\n",
        "    w_out = np.array([-1, 1, -0.5])\n",
        "\n",
        "    sum = np.dot(w_hidden, x)\n",
        "    out = [act(x) for x in sum]\n",
        "    out.append(1)\n",
        "    out = np.array(out)\n",
        "\n",
        "    sum = np.dot(w_out, out)\n",
        "    y = act(sum)\n",
        "    return y\n",
        "\n",
        "C1 = [(1,0), (0,1)]\n",
        "C2 = [(0,0), (1,1)]\n",
        "\n",
        "print( go(C1[0]), go(C1[1]) )\n",
        "print( go(C2[0]), go(C2[1]) )"
      ]
    }
  ]
}